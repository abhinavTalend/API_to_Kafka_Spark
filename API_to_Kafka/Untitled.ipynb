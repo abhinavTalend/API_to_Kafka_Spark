{
 "cells": [
  {
   "cell_type": "code",
   "execution_count": 3,
   "id": "51fc0c31-0b3c-4223-ba77-e9e51400ebec",
   "metadata": {},
   "outputs": [
    {
     "name": "stdout",
     "output_type": "stream",
     "text": [
      "Requirement already satisfied: requests in c:\\users\\abhin\\appdata\\local\\programs\\python\\python38\\lib\\site-packages (2.32.3)\n",
      "Requirement already satisfied: requests-oauthlib in c:\\users\\abhin\\appdata\\local\\programs\\python\\python38\\lib\\site-packages (2.0.0)\n",
      "Requirement already satisfied: urllib3<3,>=1.21.1 in c:\\users\\abhin\\appdata\\local\\programs\\python\\python38\\lib\\site-packages (from requests) (2.2.2)\n",
      "Requirement already satisfied: idna<4,>=2.5 in c:\\users\\abhin\\appdata\\local\\programs\\python\\python38\\lib\\site-packages (from requests) (3.7)\n",
      "Requirement already satisfied: certifi>=2017.4.17 in c:\\users\\abhin\\appdata\\local\\programs\\python\\python38\\lib\\site-packages (from requests) (2024.7.4)\n",
      "Requirement already satisfied: charset-normalizer<4,>=2 in c:\\users\\abhin\\appdata\\local\\programs\\python\\python38\\lib\\site-packages (from requests) (3.3.2)\n",
      "Requirement already satisfied: oauthlib>=3.0.0 in c:\\users\\abhin\\appdata\\local\\programs\\python\\python38\\lib\\site-packages (from requests-oauthlib) (3.2.2)\n",
      "Note: you may need to restart the kernel to use updated packages.\n"
     ]
    },
    {
     "name": "stderr",
     "output_type": "stream",
     "text": [
      "WARNING: You are using pip version 20.2.3; however, version 24.2 is available.\n",
      "You should consider upgrading via the 'c:\\users\\abhin\\appdata\\local\\programs\\python\\python38\\python.exe -m pip install --upgrade pip' command.\n"
     ]
    }
   ],
   "source": [
    "pip install requests requests-oauthlib\n"
   ]
  },
  {
   "cell_type": "code",
   "execution_count": 1,
   "id": "9358816b-5861-4442-98e8-794514a8a454",
   "metadata": {},
   "outputs": [
    {
     "name": "stdout",
     "output_type": "stream",
     "text": [
      "Collecting tweepy\n",
      "  Downloading tweepy-4.14.0-py3-none-any.whl (98 kB)\n",
      "Requirement already satisfied: requests<3,>=2.27.0 in c:\\users\\abhin\\appdata\\local\\programs\\python\\python38\\lib\\site-packages (from tweepy) (2.32.3)\n",
      "Requirement already satisfied: oauthlib<4,>=3.2.0 in c:\\users\\abhin\\appdata\\local\\programs\\python\\python38\\lib\\site-packages (from tweepy) (3.2.2)\n",
      "Collecting requests-oauthlib<2,>=1.2.0\n",
      "  Downloading requests_oauthlib-1.3.1-py2.py3-none-any.whl (23 kB)\n",
      "Requirement already satisfied: certifi>=2017.4.17 in c:\\users\\abhin\\appdata\\local\\programs\\python\\python38\\lib\\site-packages (from requests<3,>=2.27.0->tweepy) (2024.7.4)\n",
      "Requirement already satisfied: idna<4,>=2.5 in c:\\users\\abhin\\appdata\\local\\programs\\python\\python38\\lib\\site-packages (from requests<3,>=2.27.0->tweepy) (3.7)\n",
      "Requirement already satisfied: charset-normalizer<4,>=2 in c:\\users\\abhin\\appdata\\local\\programs\\python\\python38\\lib\\site-packages (from requests<3,>=2.27.0->tweepy) (3.3.2)\n",
      "Requirement already satisfied: urllib3<3,>=1.21.1 in c:\\users\\abhin\\appdata\\local\\programs\\python\\python38\\lib\\site-packages (from requests<3,>=2.27.0->tweepy) (2.2.2)\n",
      "Installing collected packages: requests-oauthlib, tweepy\n",
      "  Attempting uninstall: requests-oauthlib\n",
      "    Found existing installation: requests-oauthlib 2.0.0\n",
      "    Uninstalling requests-oauthlib-2.0.0:\n",
      "      Successfully uninstalled requests-oauthlib-2.0.0\n",
      "Successfully installed requests-oauthlib-1.3.1 tweepy-4.14.0\n",
      "Note: you may need to restart the kernel to use updated packages.\n"
     ]
    },
    {
     "name": "stderr",
     "output_type": "stream",
     "text": [
      "WARNING: You are using pip version 20.2.3; however, version 24.2 is available.\n",
      "You should consider upgrading via the 'c:\\users\\abhin\\appdata\\local\\programs\\python\\python38\\python.exe -m pip install --upgrade pip' command.\n"
     ]
    }
   ],
   "source": [
    "pip install tweepy"
   ]
  },
  {
   "cell_type": "code",
   "execution_count": 3,
   "id": "0699b72c-bd60-479e-8f73-b94d708c090f",
   "metadata": {},
   "outputs": [
    {
     "name": "stdout",
     "output_type": "stream",
     "text": [
      "Collecting pyspark\n",
      "  Downloading pyspark-3.5.3.tar.gz (317.3 MB)\n",
      "Collecting py4j==0.10.9.7\n",
      "  Downloading py4j-0.10.9.7-py2.py3-none-any.whl (200 kB)\n",
      "Using legacy 'setup.py install' for pyspark, since package 'wheel' is not installed.\n",
      "Installing collected packages: py4j, pyspark\n",
      "    Running setup.py install for pyspark: started\n",
      "    Running setup.py install for pyspark: finished with status 'done'\n",
      "Successfully installed py4j-0.10.9.7 pyspark-3.5.3\n",
      "Note: you may need to restart the kernel to use updated packages.\n"
     ]
    },
    {
     "name": "stderr",
     "output_type": "stream",
     "text": [
      "WARNING: You are using pip version 20.2.3; however, version 24.2 is available.\n",
      "You should consider upgrading via the 'c:\\users\\abhin\\appdata\\local\\programs\\python\\python38\\python.exe -m pip install --upgrade pip' command.\n"
     ]
    }
   ],
   "source": [
    "pip install pyspark\n"
   ]
  },
  {
   "cell_type": "code",
   "execution_count": 10,
   "id": "3f74df79-e355-4849-93ac-b7f5b34ad20a",
   "metadata": {},
   "outputs": [
    {
     "name": "stdout",
     "output_type": "stream",
     "text": [
      "Note: you may need to restart the kernel to use updated packages.\n"
     ]
    },
    {
     "name": "stderr",
     "output_type": "stream",
     "text": [
      "WARNING: You are using pip version 20.2.3; however, version 24.2 is available.\n",
      "You should consider upgrading via the 'c:\\users\\abhin\\appdata\\local\\programs\\python\\python38\\python.exe -m pip install --upgrade pip' command.\n"
     ]
    },
    {
     "name": "stdout",
     "output_type": "stream",
     "text": [
      "Requirement already up-to-date: tweepy in c:\\users\\abhin\\appdata\\local\\programs\\python\\python38\\lib\\site-packages (4.14.0)\n",
      "Requirement already satisfied, skipping upgrade: requests-oauthlib<2,>=1.2.0 in c:\\users\\abhin\\appdata\\local\\programs\\python\\python38\\lib\\site-packages (from tweepy) (1.3.1)\n",
      "Requirement already satisfied, skipping upgrade: oauthlib<4,>=3.2.0 in c:\\users\\abhin\\appdata\\local\\programs\\python\\python38\\lib\\site-packages (from tweepy) (3.2.2)\n",
      "Requirement already satisfied, skipping upgrade: requests<3,>=2.27.0 in c:\\users\\abhin\\appdata\\local\\programs\\python\\python38\\lib\\site-packages (from tweepy) (2.32.3)\n",
      "Requirement already satisfied, skipping upgrade: idna<4,>=2.5 in c:\\users\\abhin\\appdata\\local\\programs\\python\\python38\\lib\\site-packages (from requests<3,>=2.27.0->tweepy) (3.7)\n",
      "Requirement already satisfied, skipping upgrade: charset-normalizer<4,>=2 in c:\\users\\abhin\\appdata\\local\\programs\\python\\python38\\lib\\site-packages (from requests<3,>=2.27.0->tweepy) (3.3.2)\n",
      "Requirement already satisfied, skipping upgrade: certifi>=2017.4.17 in c:\\users\\abhin\\appdata\\local\\programs\\python\\python38\\lib\\site-packages (from requests<3,>=2.27.0->tweepy) (2024.7.4)\n",
      "Requirement already satisfied, skipping upgrade: urllib3<3,>=1.21.1 in c:\\users\\abhin\\appdata\\local\\programs\\python\\python38\\lib\\site-packages (from requests<3,>=2.27.0->tweepy) (2.2.2)\n"
     ]
    }
   ],
   "source": [
    "pip install tweepy --upgrade"
   ]
  },
  {
   "cell_type": "code",
   "execution_count": 8,
   "id": "3b12cb9f-2fc3-4586-abef-6813f8d4c6c7",
   "metadata": {
    "scrolled": true
   },
   "outputs": [
    {
     "name": "stdout",
     "output_type": "stream",
     "text": [
      "Error: 403 Forbidden\n",
      "When authenticating requests to the Twitter API v2 endpoints, you must use keys and tokens from a Twitter developer App that is attached to a Project. You can create a project via the developer portal.\n"
     ]
    }
   ],
   "source": [
    "import tweepy\n",
    "from pyspark.sql import SparkSession\n",
    "import json\n",
    "\n",
    "# Initialize Spark session\n",
    "spark = SparkSession.builder \\\n",
    "    .appName(\"Twitter API to Kafka\") \\\n",
    "    .getOrCreate()\n",
    "\n",
    "# Twitter API credentials (OAuth 1.0a)\n",
    "api_key = \"w4zx5y8TpkJhnCAWm0AWymx7K\"\n",
    "api_secret_key = \"4HXNr465Ewnoq3shbKp5qkv2jwSEOZK9pzukLANgH7grN8RoRB\"\n",
    "access_token = \"1841203145973620743-tOkS3oQnZN7H791FUjTQHq0NhQHWYD\"\n",
    "access_token_secret = \"sSovuh4UEXMyAmkqK318wu5TUXrlJXtEz77WLmQymWW7d\"\n",
    "\n",
    "# Bearer token for API v2 (this is required to use v2 endpoints)\n",
    "bearer_token = \"AAAAAAAAAAAAAAAAAAAAALzIwAEAAAAAVrLx0U2GxtzyBM%2FzYZavzPdGKI8%3DCM5cPoGdET6tlb1P8LNrx3QgAsk5c6nEtlVOzOHrOvYeV9rDgR\"\n",
    "\n",
    "# Initialize Tweepy Client for Twitter API v2\n",
    "client = tweepy.Client(bearer_token=bearer_token)\n",
    "\n",
    "# Function to fetch tweets using Twitter API v2\n",
    "def get_tweets_v2(query, max_results=10):\n",
    "    try:\n",
    "        # Use Twitter API v2 to search recent tweets\n",
    "        response = client.search_recent_tweets(query=query, max_results=max_results, tweet_fields=['created_at', 'text', 'author_id'])\n",
    "        tweets = response.data if response.data else []\n",
    "        for tweet in tweets:\n",
    "            print(f\"Tweet: {tweet.text}\\n\")\n",
    "    except tweepy.errors.TweepyException as e:\n",
    "        print(f\"Error: {e}\")\n",
    "\n",
    "# Example: Search tweets with the query \"#spark\"\n",
    "query = \"#spark\"\n",
    "get_tweets_v2(query=query, max_results=10)\n"
   ]
  }
 ],
 "metadata": {
  "kernelspec": {
   "display_name": "Python 3 (ipykernel)",
   "language": "python",
   "name": "python3"
  },
  "language_info": {
   "codemirror_mode": {
    "name": "ipython",
    "version": 3
   },
   "file_extension": ".py",
   "mimetype": "text/x-python",
   "name": "python",
   "nbconvert_exporter": "python",
   "pygments_lexer": "ipython3",
   "version": "3.8.8"
  }
 },
 "nbformat": 4,
 "nbformat_minor": 5
}
