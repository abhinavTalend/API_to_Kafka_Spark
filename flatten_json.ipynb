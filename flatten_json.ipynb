{
 "cells": [
  {
   "cell_type": "code",
   "execution_count": 1,
   "id": "ba23dbe0-4e07-40b2-9e71-0fb8be0e796e",
   "metadata": {},
   "outputs": [
    {
     "name": "stdout",
     "output_type": "stream",
     "text": [
      "+---+-----+--------------------+--------------------+\n",
      "| id| name|                info|             address|\n",
      "+---+-----+--------------------+--------------------+\n",
      "|  1|Alice|{30, [alice@examp...|{naperville, [605...|\n",
      "|  2|  Bob|{25, [bob@example...|{naperville, [605...|\n",
      "+---+-----+--------------------+--------------------+\n",
      "\n",
      "None None\n"
     ]
    }
   ],
   "source": [
    "import os\n",
    "import findspark\n",
    "\n",
    "findspark.init(r'C:\\spark\\spark-3.4.3-bin-hadoop3')\n",
    "\n",
    "from pyspark.sql import SparkSession\n",
    "from pyspark.sql.functions import col, explode\n",
    "from pyspark.sql.types import StructType, StructField, ArrayType, IntegerType, StringType\n",
    "from pyspark.sql.types import *\n",
    "from pyspark.sql.functions import *\n",
    "\n",
    "spark = SparkSession.builder.appName(\"Flatten JSON Structures\").getOrCreate()\n",
    "data = [{\n",
    "    \"id\": 1,\n",
    "    \"name\": \"Alice\",\n",
    "    \"info\": {\n",
    "        \"age\": 30,\n",
    "        \"emails\": [\"alice@example.com\", \"alice@yahoo.com\"],\n",
    "    },\n",
    "    \"address\":{\n",
    "        \"city\": \"naperville\",\n",
    "        \"zip\":[605,705]\n",
    "\n",
    "    }\n",
    "}, {\n",
    "    \"id\": 2,\n",
    "    \"name\": \"Bob\",\n",
    "    \"info\": {\n",
    "        \"age\": 25,\n",
    "        \"emails\": [\"bob@example.com\"],\n",
    "    },\n",
    "    \"address\":{\n",
    "        \"city\": \"naperville\",\n",
    "        \"zip\":[605,705]\n",
    "\n",
    "    }\n",
    "}]\n",
    "schema = StructType([\n",
    "    StructField(\"id\", IntegerType(), True),\n",
    "    StructField(\"name\", StringType(), True),\n",
    "    StructField(\"info\", StructType([\n",
    "        StructField(\"age\", IntegerType(), True),\n",
    "        StructField(\"emails\", ArrayType(StringType()), True)\n",
    "    ]), True),\n",
    "    StructField(\"address\", StructType([\n",
    "        StructField(\"city\", StringType(), True),\n",
    "        StructField(\"zip\", ArrayType(IntegerType()), True)\n",
    "    ]), True)\n",
    "])\n",
    "\n",
    "# Create a DataFrame\n",
    "df = spark.createDataFrame(data, schema)\n",
    "df.show()\n",
    "\n",
    "driver_cores = spark.sparkContext.getConf().get(\"spark.driver.cores\")\n",
    "num_executors = spark.sparkContext.getConf().get(\"spark.executor.instances\")\n",
    "print(driver_cores,num_executors)\n",
    "\n",
    "\n"
   ]
  },
  {
   "cell_type": "code",
   "execution_count": 2,
   "id": "b18d9421-81bb-4415-930a-4218e96e0fbf",
   "metadata": {},
   "outputs": [
    {
     "name": "stdout",
     "output_type": "stream",
     "text": [
      "Complex Fields: {'info': StructType([StructField('age', IntegerType(), True), StructField('emails', ArrayType(StringType(), True), True)]), 'address': StructType([StructField('city', StringType(), True), StructField('zip', ArrayType(IntegerType(), True), True)])}\n",
      "info\n",
      "Processing :info Type : <class 'pyspark.sql.types.StructType'>\n",
      "['age', 'emails']\n",
      "expanded----> [Column<'info.age AS info_age'>, Column<'info.emails AS info_emails'>]\n",
      "df---> DataFrame[id: int, name: string, address: struct<city:string,zip:array<int>>, info_age: int, info_emails: array<string>]\n",
      "+---+-----+--------------------+--------+--------------------+\n",
      "| id| name|             address|info_age|         info_emails|\n",
      "+---+-----+--------------------+--------+--------------------+\n",
      "|  1|Alice|{naperville, [605...|      30|[alice@example.co...|\n",
      "|  2|  Bob|{naperville, [605...|      25|   [bob@example.com]|\n",
      "+---+-----+--------------------+--------+--------------------+\n",
      "\n",
      "Processing :address Type : <class 'pyspark.sql.types.StructType'>\n",
      "['city', 'zip']\n",
      "expanded----> [Column<'address.city AS address_city'>, Column<'address.zip AS address_zip'>]\n",
      "df---> DataFrame[id: int, name: string, info_age: int, info_emails: array<string>, address_city: string, address_zip: array<int>]\n",
      "+---+-----+--------+--------------------+------------+-----------+\n",
      "| id| name|info_age|         info_emails|address_city|address_zip|\n",
      "+---+-----+--------+--------------------+------------+-----------+\n",
      "|  1|Alice|      30|[alice@example.co...|  naperville| [605, 705]|\n",
      "|  2|  Bob|      25|   [bob@example.com]|  naperville| [605, 705]|\n",
      "+---+-----+--------+--------------------+------------+-----------+\n",
      "\n",
      "Processing :info_emails Type : <class 'pyspark.sql.types.ArrayType'>\n",
      "Processing :address_zip Type : <class 'pyspark.sql.types.ArrayType'>\n",
      "+---+-----+--------+-----------------+------------+-----------+\n",
      "| id| name|info_age|      info_emails|address_city|address_zip|\n",
      "+---+-----+--------+-----------------+------------+-----------+\n",
      "|  1|Alice|      30|alice@example.com|  naperville|        605|\n",
      "|  1|Alice|      30|alice@example.com|  naperville|        705|\n",
      "|  1|Alice|      30|  alice@yahoo.com|  naperville|        605|\n",
      "|  1|Alice|      30|  alice@yahoo.com|  naperville|        705|\n",
      "|  2|  Bob|      25|  bob@example.com|  naperville|        605|\n",
      "|  2|  Bob|      25|  bob@example.com|  naperville|        705|\n",
      "+---+-----+--------+-----------------+------------+-----------+\n",
      "\n"
     ]
    }
   ],
   "source": [
    "def flatten(df):\n",
    "   #compute Complex Fields (Lists and Structs) in Schema   \n",
    "   complex_fields = dict([(field.name, field.dataType)\n",
    "                             for field in df.schema.fields\n",
    "                             if type(field.dataType) == ArrayType or  type(field.dataType) == StructType])\n",
    "   print(\"Complex Fields:\", complex_fields)\n",
    "   print(list(complex_fields.keys())[0])\n",
    "   while len(complex_fields)!=0:\n",
    "      col_name=list(complex_fields.keys())[0]\n",
    "      print (\"Processing :\"+col_name+\" Type : \"+str(type(complex_fields[col_name])))\n",
    "    \n",
    "      #if StructType then convert all sub element to columns.\n",
    "      #i.e. flatten structs\n",
    "      if (type(complex_fields[col_name]) == StructType):\n",
    "         e= [ f.name for f in  complex_fields[col_name]]\n",
    "         print(e) \n",
    "         expanded = [col(col_name+'.'+k).alias(col_name+'_'+k) for k in [ n.name for n in  complex_fields[col_name]]]\n",
    "         print(\"expanded---->\",expanded)\n",
    "         df=df.select(\"*\", *expanded).drop(col_name)\n",
    "         print('df--->',df)\n",
    "         df.show() \n",
    "      #if ArrayType then add the Array Elements as Rows using the explode function\n",
    "      #i.e. explode Arrays\n",
    "      elif (type(complex_fields[col_name]) == ArrayType):    \n",
    "         df=df.withColumn(col_name,explode_outer(col_name))\n",
    "    \n",
    "      #recompute remaining Complex Fields in Schema       \n",
    "      complex_fields = dict([(field.name, field.dataType)\n",
    "                             for field in df.schema.fields\n",
    "                             if type(field.dataType) == ArrayType or  type(field.dataType) == StructType])\n",
    "   return df\n",
    "   \n",
    "df_flatten = flatten(df)\n",
    "df_flatten.show()\n",
    "# display(df_flatten)"
   ]
  },
  {
   "cell_type": "code",
   "execution_count": 3,
   "id": "b01353eb-3a5e-49c7-aea0-a424c6847130",
   "metadata": {},
   "outputs": [
    {
     "name": "stdout",
     "output_type": "stream",
     "text": [
      "None None\n"
     ]
    }
   ],
   "source": [
    "driver_cores = spark.sparkContext.getConf().get(\"spark.driver.cores\")\n",
    "num_executors = spark.sparkContext.getConf().get(\"spark.executor.instances\")\n",
    "print(driver_cores,num_executors)"
   ]
  },
  {
   "cell_type": "code",
   "execution_count": null,
   "id": "b1a12e10-28bb-41ae-adfa-8cb321f8c53f",
   "metadata": {},
   "outputs": [],
   "source": []
  }
 ],
 "metadata": {
  "kernelspec": {
   "display_name": "Python 3 (ipykernel)",
   "language": "python",
   "name": "python3"
  },
  "language_info": {
   "codemirror_mode": {
    "name": "ipython",
    "version": 3
   },
   "file_extension": ".py",
   "mimetype": "text/x-python",
   "name": "python",
   "nbconvert_exporter": "python",
   "pygments_lexer": "ipython3",
   "version": "3.8.8"
  }
 },
 "nbformat": 4,
 "nbformat_minor": 5
}
