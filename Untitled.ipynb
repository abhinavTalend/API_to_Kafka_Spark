{
 "cells": [
  {
   "cell_type": "code",
   "execution_count": 5,
   "id": "889df5e3-1139-4a6c-8e00-6fe5f973b4bb",
   "metadata": {},
   "outputs": [
    {
     "name": "stdout",
     "output_type": "stream",
     "text": [
      "Complex Fields: {'info': StructType([StructField('age', IntegerType(), True), StructField('emails', ArrayType(StringType(), True), True)])}\n"
     ]
    }
   ],
   "source": [
    "import os\n",
    "import findspark\n",
    "\n",
    "findspark.init(r'C:\\spark\\spark-3.4.3-bin-hadoop3')\n",
    "\n",
    "from pyspark.sql import SparkSession\n",
    "from pyspark.sql.functions import col, explode\n",
    "from pyspark.sql.types import StructType, StructField, ArrayType, IntegerType, StringType\n",
    "\n",
    "def flatten(df):\n",
    "    # Compute complex fields (Arrays and Structs) in the schema\n",
    "    complex_fields = dict([(field.name, field.dataType)\n",
    "                           for field in df.schema.fields\n",
    "                           if isinstance(field.dataType, ArrayType) or isinstance(field.dataType, StructType)])\n",
    "    print(\"Complex Fields:\", complex_fields)\n",
    "\n",
    "# Create a Spark session\n",
    "spark = SparkSession.builder.appName(\"Flatten JSON Structures\").getOrCreate()\n",
    "\n",
    "# Sample JSON data with nested structures\n",
    "data = [{\n",
    "    \"id\": 1,\n",
    "    \"name\": \"Alice\",\n",
    "    \"info\": {\n",
    "        \"age\": 30,\n",
    "        \"emails\": [\"alice@example.com\", \"alice@yahoo.com\"],\n",
    "    }\n",
    "}, {\n",
    "    \"id\": 2,\n",
    "    \"name\": \"Bob\",\n",
    "    \"info\": {\n",
    "        \"age\": 25,\n",
    "        \"emails\": [\"bob@example.com\"],\n",
    "    }\n",
    "}]\n",
    "\n",
    "# Define the schema for the DataFrame\n",
    "schema = StructType([\n",
    "    StructField(\"id\", IntegerType(), True),\n",
    "    StructField(\"name\", StringType(), True),\n",
    "    StructField(\"info\", StructType([\n",
    "        StructField(\"age\", IntegerType(), True),\n",
    "        StructField(\"emails\", ArrayType(StringType()), True)\n",
    "    ]), True)\n",
    "])\n",
    "\n",
    "# Create a DataFrame\n",
    "df = spark.createDataFrame(data, schema)\n",
    "\n",
    "# Use the flatten function\n",
    "flatten(df)\n",
    "\n"
   ]
  },
  {
   "cell_type": "code",
   "execution_count": 7,
   "id": "430b21d5-4ca3-4e0a-9dec-1c72c5924035",
   "metadata": {},
   "outputs": [
    {
     "name": "stdout",
     "output_type": "stream",
     "text": [
      "{'name': 'Alice', 'age': 25, 'city': 'New York'}\n"
     ]
    }
   ],
   "source": [
    "def flatten(df):\n",
    "   compute Complex Fields (Lists and Structs) in Schema   \n",
    "   complex_fields = dict([(field.name, field.dataType)\n",
    "                             for field in df.schema.fields\n",
    "                             if type(field.dataType) == ArrayType or  type(field.dataType) == StructType])\n",
    "   while len(complex_fields)!=0:\n",
    "      col_name=list(complex_fields.keys())[0]\n",
    "      print (\"Processing :\"+col_name+\" Type : \"+str(type(complex_fields[col_name])))\n",
    "    \n",
    "      if StructType then convert all sub element to columns.\n",
    "      i.e. flatten structs\n",
    "      if (type(complex_fields[col_name]) == StructType):\n",
    "         expanded = [col(col_name+'.'+k).alias(col_name+'_'+k) for k in [ n.name for n in  complex_fields[col_name]]]\n",
    "         df=df.select(\"*\", *expanded).drop(col_name)\n",
    "    \n",
    "      if ArrayType then add the Array Elements as Rows using the explode function\n",
    "      i.e. explode Arrays\n",
    "      elif (type(complex_fields[col_name]) == ArrayType):    \n",
    "         df=df.withColumn(col_name,explode_outer(col_name))\n",
    "    \n",
    "      recompute remaining Complex Fields in Schema       \n",
    "      complex_fields = dict([(field.name, field.dataType)\n",
    "                             for field in df.schema.fields\n",
    "                             if type(field.dataType) == ArrayType or  type(field.dataType) == StructType])\n",
    "   return df"
   ]
  },
  {
   "cell_type": "code",
   "execution_count": 8,
   "id": "01aa3194-b15f-42e1-8bcf-88979c983a0e",
   "metadata": {},
   "outputs": [
    {
     "name": "stdout",
     "output_type": "stream",
     "text": [
      "{'a': 1, 'b': 1, 'c': 1}\n"
     ]
    }
   ],
   "source": []
  },
  {
   "cell_type": "code",
   "execution_count": null,
   "id": "677f7dba-4742-4314-8606-2332263f6fc0",
   "metadata": {},
   "outputs": [],
   "source": []
  }
 ],
 "metadata": {
  "kernelspec": {
   "display_name": "Python 3 (ipykernel)",
   "language": "python",
   "name": "python3"
  },
  "language_info": {
   "codemirror_mode": {
    "name": "ipython",
    "version": 3
   },
   "file_extension": ".py",
   "mimetype": "text/x-python",
   "name": "python",
   "nbconvert_exporter": "python",
   "pygments_lexer": "ipython3",
   "version": "3.8.8"
  }
 },
 "nbformat": 4,
 "nbformat_minor": 5
}
